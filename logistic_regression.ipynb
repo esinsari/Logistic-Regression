{
  "nbformat": 4,
  "nbformat_minor": 0,
  "metadata": {
    "coursera": {
      "course_slug": "neural-networks-deep-learning",
      "graded_item_id": "XaIWT",
      "launcher_item_id": "zAgPl"
    },
    "kernelspec": {
      "display_name": "Python 3",
      "language": "python",
      "name": "python3"
    },
    "language_info": {
      "codemirror_mode": {
        "name": "ipython",
        "version": 3
      },
      "file_extension": ".py",
      "mimetype": "text/x-python",
      "name": "python",
      "nbconvert_exporter": "python",
      "pygments_lexer": "ipython3",
      "version": "3.8.3"
    },
    "colab": {
      "name": "Homework_02.ipynb",
      "provenance": [],
      "collapsed_sections": []
    }
  },
  "cells": [
    {
      "cell_type": "markdown",
      "metadata": {
        "id": "w-wIsLTF2-mI"
      },
      "source": [
        "# Logistic Regression \n",
        "\n",
        "Implement logistic regression and apply it to two\n",
        "different datasets. \\\n",
        "\n",
        "**Task Overview:**\n",
        "- Logistic Regression \n",
        "- Regularized logistic regression"
      ]
    },
    {
      "cell_type": "markdown",
      "metadata": {
        "id": "QXHEbx5o2-mM"
      },
      "source": [
        "## 1 - Logistic Regression ##\n",
        "### 1.1 Packages\n",
        "\n",
        "Import useful packages for scientific computing and data processing. \n",
        "\n",
        "**Tasks:**\n",
        "1. Import numpy and rename it to np.\n",
        "2. Import pandas and rename it to pd.\n",
        "3. Import the pyplot function in the libraray of matplotlib and rename it to plt."
      ]
    },
    {
      "cell_type": "code",
      "metadata": {
        "id": "yRzgJ4032-mP"
      },
      "source": [
        "# Import and rename libraries\n",
        "\n",
        "import numpy as np\n",
        "import pandas as pd\n",
        "import matplotlib.pyplot as plt \n",
        "import pylab"
      ],
      "execution_count": null,
      "outputs": []
    },
    {
      "cell_type": "markdown",
      "metadata": {
        "collapsed": true,
        "id": "-ot2Ge152-mc"
      },
      "source": [
        "### 1.2 - Data Preparation ##\n",
        "\n",
        "Prepare the data for regression task. \n",
        "\n",
        "**Tasks:**\n",
        "1. Load data for logistic regression.\n",
        "2. Generate the scatter plot of the data.\n",
        "\n",
        "  The data file is \"data_logistic.csv\""
      ]
    },
    {
      "cell_type": "code",
      "metadata": {
        "id": "uzEzNAbg2-me",
        "colab": {
          "base_uri": "https://localhost:8080/",
          "height": 279
        },
        "outputId": "cf6f509b-42d5-4685-c563-62761674d2ab"
      },
      "source": [
        "# Preprocess input data and generate plots\n",
        "data = pd.read_csv('data_logistic.csv')\n",
        "x1 = data.iloc[:, 0]\n",
        "x2 = data.iloc[:, 1]\n",
        "y = data.iloc[:, 2]\n",
        "\n",
        "colors = np.where(y==1,'y','k')\n",
        "\n",
        "plt.xlabel('X1')\n",
        "plt.ylabel('x2')\n",
        "plt.scatter(x1, x2, c=colors)\n",
        "plt.show()"
      ],
      "execution_count": null,
      "outputs": [
        {
          "output_type": "display_data",
          "data": {
            "image/png": "[encoded data removed]",
            "text/plain": [
              "<Figure size 432x288 with 1 Axes>"
            ]
          },
          "metadata": {
            "tags": [],
            "needs_background": "light"
          }
        }
      ]
    },
    {
      "cell_type": "markdown",
      "metadata": {
        "id": "yAEaigTB2-mq"
      },
      "source": [
        "### 1.3 - Sigmoid function ##\n",
        "\n",
        "\n",
        "Implement sigmoid function so it can be called by the rest of your program.\n",
        "\n",
        "**Tasks:**\n",
        "1. Implement the sigmoid function (**def sigmoid(z):**). \n",
        "2. Test the sigmoid function by function plotting with test data (X, Y) where Y = sigmoid(X). \n"
      ]
    },
    {
      "cell_type": "code",
      "metadata": {
        "id": "r7z33TJH2-ms"
      },
      "source": [
        "# Implement sigmoid fuction\n",
        "def sigmoid(z):\n",
        "  s = 1 / (1 + np.exp(-z))\n",
        "  return s\n",
        "\n",
        "X = np.linspace(-5, 5, 1000) \n",
        "Y = sigmoid(X)"
      ],
      "execution_count": null,
      "outputs": []
    },
    {
      "cell_type": "code",
      "metadata": {
        "id": "Ugw9FLc82-m3",
        "colab": {
          "base_uri": "https://localhost:8080/",
          "height": 265
        },
        "outputId": "70cd363b-ecf9-4bc0-f16b-4cad8eb98537"
      },
      "source": [
        "# Plot data\n",
        "plt.scatter(X, Y)\n",
        "plt.show()\n"
      ],
      "execution_count": null,
      "outputs": [
        {
          "output_type": "display_data",
          "data": {
            "image/png": "[encoded data removed]",
            "text/plain": [
              "<Figure size 432x288 with 1 Axes>"
            ]
          },
          "metadata": {
            "tags": [],
            "needs_background": "light"
          }
        }
      ]
    },
    {
      "cell_type": "markdown",
      "metadata": {
        "id": "5_Ajyywk2-nB"
      },
      "source": [
        "### 1.4 - Cost function and gradient ##\n",
        "\n",
        "Implement the cross entropy cost function and its gradient for logistic regression.\n",
        "\n",
        "**Tasks:**\n",
        "1. Implement the \"cal_cost\" to compute the cost.\n",
        "2. Implement the \"cal_grad\" to compute the gradients.\n",
        "3. Test \"cal_cost\" and \"cal_grad\" with initial values and print out the results.\n",
        "\n",
        "    **Expected outputs:**\\\n",
        "    Cost at initial theta : 0.6931471805599445\\\n",
        "    Gradient at inital theta : [-0.1        -10.91242026 -11.73652937]\n"
      ]
    },
    {
      "cell_type": "code",
      "metadata": {
        "id": "TmzWFHV42-nD",
        "colab": {
          "base_uri": "https://localhost:8080/",
          "height": 84
        },
        "outputId": "fd7a3bc7-9ade-41a7-f1a4-117886687cf9"
      },
      "source": [
        "# Implement the cost function \n",
        "theta = np.array(np.zeros(3))\n",
        "X = np.array([np.ones(80), x1, x2])\n",
        "\n",
        "def cal_cost(theta, X, y):  \n",
        "   m = len(y)\n",
        "   eps = 1e-15\n",
        "   htheta = sigmoid(np.dot(theta, X))\n",
        "   term1 = np.dot(np.log(htheta), y)\n",
        "   term2 = np.dot(np.log(1-htheta + eps), (1-y))\n",
        "   return - (term1 + term2) / m \n",
        "\n",
        "\n",
        "############################################\n",
        "def cal_grad(theta, X, y):\n",
        "  m = len(y)\n",
        "  htheta = sigmoid(np.dot(theta, X))\n",
        "  term1 = np.dot((htheta - y), np.transpose(X))\n",
        "  grad = term1 / m\n",
        "  return grad\n",
        "    \n",
        "    \n",
        "print (\"Cost at inital theta:\\n \", str(cal_cost(theta, X, y)))\n",
        "print (\"Gradient at inital theta:\\n\", str(cal_grad(theta, X, y)))\n"
      ],
      "execution_count": null,
      "outputs": [
        {
          "output_type": "stream",
          "text": [
            "Cost at inital theta:\n",
            "  0.6931471805599445\n",
            "Gradient at inital theta:\n",
            " [ -0.1        -10.91242026 -11.73652937]\n"
          ],
          "name": "stdout"
        }
      ]
    },
    {
      "cell_type": "markdown",
      "metadata": {
        "id": "rkBf3SKk2-nN"
      },
      "source": [
        "## 1.5 Train parameters with Gradient Descent ##\n",
        "\n",
        "\n",
        "Train parameters using Gradient Descent. \n",
        "\n",
        "**Tasks:**\n",
        "1. Calculate best fit theta by Gradient Descent with learning rate of **0.001** and epoch of **800K**. The initial theta from above blocks is used as initial values.\n",
        "2. Print out the best theta (the last one is considered as the best here) and its corresponding cost.\n",
        "3. Plot the decision boundary.\n",
        "\n",
        "The validation of first 5 epochs (updated theta and cost): \\\n",
        "------Epoch 0------\\\n",
        "Theta: [0.0001     0.01091242 0.01173653]\\\n",
        "Cost: 0.6996118077359638\\\n",
        "------Epoch 1------\\\n",
        "Theta: [-0.0001129   0.00053949  0.00229352]\\\n",
        "Cost: 0.6649331468590681\\\n",
        "------Epoch 2------\\\n",
        "Theta: [-5.93604956e-05  8.33145873e-03  1.07754324e-02]\\\n",
        "Cost: 0.6679914364992459\\\n",
        "------Epoch 3------\\\n",
        "Theta: [-0.0002356   0.0004607   0.00370829]\\\n",
        "Cost: 0.6545873034874964\\\n",
        "------Epoch 4------\\\n",
        "Theta: [-0.00020363  0.00683227  0.01065138]\\\n",
        "Cost: 0.6563302142684528\n"
      ]
    },
    {
      "cell_type": "code",
      "metadata": {
        "id": "5UR7Ux5Z2-nP",
        "colab": {
          "base_uri": "https://localhost:8080/",
          "height": 218
        },
        "outputId": "4e20391a-67d5-4274-f931-7b84115be4a5"
      },
      "source": [
        "# Gradient Descent Implementation\n",
        "L = 0.001  #learning rate\n",
        "epochs = 800000  #the number of iterations to perform gradient descent\n",
        "\n",
        "# Performing Gradient Descent \n",
        "for i in range(epochs):\n",
        "    theta = theta - L * cal_grad(theta, X, y)\n",
        "    if i < 5:\n",
        "      print(\"---Epoch#\", i)\n",
        "      print(\"Theta: \", str(theta))\n",
        "      print(\"Cost at inital theta: \", str(cal_cost(theta, X, y)))\n",
        "\n",
        "cost = cal_cost(theta, X, y)\n",
        "print(\"Theta: \", str(theta))\n",
        "print(\"Cost at inital theta: \", cost)\n"
      ],
      "execution_count": null,
      "outputs": [
        {
          "output_type": "stream",
          "text": [
            "Theta:  [0.0001     0.01091242 0.01173653]\n",
            "Cost at inital theta:  0.6996118077359637\n",
            "Theta:  [-0.0001129   0.00053949  0.00229352]\n",
            "Cost at inital theta:  0.6649331468590681\n",
            "Theta:  [-5.93604956e-05  8.33145873e-03  1.07754324e-02]\n",
            "Cost at inital theta:  0.667991436499246\n",
            "Theta:  [-0.0002356   0.0004607   0.00370829]\n",
            "Cost at inital theta:  0.6545873034874964\n",
            "Theta:  [-0.00020363  0.00683227  0.01065138]\n",
            "Cost at inital theta:  0.6563302142684527\n",
            "Theta:  [-13.38180064   0.10550175   0.11154862]\n",
            "Cost at inital theta:  0.2761699482595887\n"
          ],
          "name": "stdout"
        }
      ]
    },
    {
      "cell_type": "code",
      "metadata": {
        "id": "qogPsgA42-na",
        "colab": {
          "base_uri": "https://localhost:8080/",
          "height": 295
        },
        "outputId": "ade70909-f595-4345-94c4-6bed29159212"
      },
      "source": [
        "# Draw Decision Boundary Here\n",
        "plt.title('Decision Boundary')\n",
        "plt.xlabel('X1')\n",
        "plt.ylabel('X2')\n",
        "\n",
        "z = -(theta[0] + theta[1]*x1)/theta[2]\n",
        "plt.plot(x1, z)\n",
        "\n",
        "plt.scatter(x1, x2, c=colors)\n",
        "plt.show()"
      ],
      "execution_count": null,
      "outputs": [
        {
          "output_type": "display_data",
          "data": {
            "image/png": "[encoded data removed]",
            "text/plain": [
              "<Figure size 432x288 with 1 Axes>"
            ]
          },
          "metadata": {
            "tags": [],
            "needs_background": "light"
          }
        }
      ]
    },
    {
      "cell_type": "markdown",
      "metadata": {
        "id": "VxnC-1Mf2-ng"
      },
      "source": [
        "\n",
        "### 1.6 Evaluating Logistic Regression\n",
        "\n",
        "Evaluate the model with given data.\n",
        "\n",
        "**Tasks:**\n",
        "1. Evaluate the predicted probability of the learnt model with x1 = 56 and x2 = 32 and print it out.\n",
        "\n",
        " Training accuracy should be high enough, like above 87%."
      ]
    },
    {
      "cell_type": "code",
      "metadata": {
        "id": "jBPxk28g2-nh",
        "colab": {
          "base_uri": "https://localhost:8080/",
          "height": 50
        },
        "outputId": "913249a4-ecd6-4226-898b-8b7f8d8096e1"
      },
      "source": [
        "# Evaluate the model\n",
        "correct = 0.0\n",
        "htheta = sigmoid(np.dot(theta, X))\n",
        "\n",
        "for i in range(len(htheta)):\n",
        "   prediction = htheta[i] > 0.5\n",
        "   correct += prediction == y[i]\n",
        "\n",
        "accuracy = (correct / len(htheta))* 100\n",
        "prob = theta[0] + theta[1]*56 + theta[2]*32\n",
        "\n",
        "print('Accuracy: ' + str(accuracy) + '%')\n",
        "print(\"Probability: \", str(sigmoid(prob)))\n",
        "\n",
        "\n"
      ],
      "execution_count": null,
      "outputs": [
        {
          "output_type": "stream",
          "text": [
            "Accuracy: 87.5%\n",
            "Probability:  0.0197598304099641\n"
          ],
          "name": "stdout"
        }
      ]
    },
    {
      "cell_type": "markdown",
      "metadata": {
        "id": "nVlnEGi_2-nl"
      },
      "source": [
        "\n",
        "## 2 - Regularized Logistic Regression ##\n",
        "### 2.1 - Data Preparation\n",
        "\n",
        "Prepare the data for regression task. \n",
        "\n",
        "**Tasks:**\n",
        "1. Load data for logistic regression.\n",
        "2. Generate the scatter plot of the data.\n",
        "\n",
        "   The data file is \"data_reg_logistic.csv\"."
      ]
    },
    {
      "cell_type": "code",
      "metadata": {
        "id": "NmJMUTCl2-nm",
        "colab": {
          "base_uri": "https://localhost:8080/",
          "height": 265
        },
        "outputId": "178862ed-8b09-4d63-b053-d8f94a3503d8"
      },
      "source": [
        "# Visualize the data\n",
        "data = pd.read_csv('data_reg_logistic.csv')\n",
        "x1 = data.iloc[:, 0]\n",
        "x2 = data.iloc[:, 1]\n",
        "y = data.iloc[:, 2]\n",
        "\n",
        "colors = np.where(y==1,'y','k')\n",
        "\n",
        "plt.scatter(x1, x2, c=colors)\n",
        "plt.show()"
      ],
      "execution_count": null,
      "outputs": [
        {
          "output_type": "display_data",
          "data": {
            "image/png": "[encoded data removed]",
            "text/plain": [
              "<Figure size 432x288 with 1 Axes>"
            ]
          },
          "metadata": {
            "tags": [],
            "needs_background": "light"
          }
        }
      ]
    },
    {
      "cell_type": "markdown",
      "metadata": {
        "id": "ttd-6wP92-nq"
      },
      "source": [
        "### 2.2 - Feature Mapping\n",
        "\n",
        "To obtain nonlinear boundary, we map the features into higher dimension.  \n",
        "\n",
        "**Tasks:**\n",
        "1. Map the 2-dimension features into all polynomial terms of x1 and x2 up to the 6th power.\n",
        "\n",
        " Validation for mapFeature(np.array([[0,1]])) is \\\n",
        "[[1. 0. 1. 0. 0. 1. 0. 0. 0. 1. 0. 0. 0. 0. 1. 0. 0. 0. 0. 0. 1. 0. 0. 0. 0. 0. 0. 1.]]"
      ]
    },
    {
      "cell_type": "code",
      "metadata": {
        "id": "P0-ZC5Ht2-nr",
        "colab": {
          "base_uri": "https://localhost:8080/",
          "height": 269
        },
        "outputId": "c7599310-3dc2-42d8-da75-5b12faaef458"
      },
      "source": [
        "# Mapping fuction: def mapFeatures(data, degree):\n",
        "\n",
        "def mapFeature(data, degrees=6):\n",
        "    m1 = data[0]\n",
        "    m2 = data[1]\n",
        "    X = []\n",
        "    for i in range(degrees + 1): \n",
        "        for j in range(i+1):\n",
        "            X.append(m1**(i-j) * m2**j) \n",
        "    \n",
        "    return np.array(X)\n",
        "\n",
        "#testing whether it is correct.\n",
        "print(mapFeature(np.array([0.0,1.0])))\n",
        "X = mapFeature([x1,x2])\n",
        "print(X)"
      ],
      "execution_count": null,
      "outputs": [
        {
          "output_type": "stream",
          "text": [
            "[1. 0. 1. 0. 0. 1. 0. 0. 0. 1. 0. 0. 0. 0. 1. 0. 0. 0. 0. 0. 1. 0. 0. 0.\n",
            " 0. 0. 0. 1.]\n",
            "[[ 1.00000000e+00  1.00000000e+00  1.00000000e+00 ...  1.00000000e+00\n",
            "   1.00000000e+00  1.00000000e+00]\n",
            " [ 5.12670000e-02 -9.27420000e-02 -2.13710000e-01 ... -4.84450000e-01\n",
            "  -6.33640000e-03  6.32650000e-01]\n",
            " [ 6.99560000e-01  6.84940000e-01  6.92250000e-01 ...  9.99270000e-01\n",
            "   9.99270000e-01 -3.06120000e-02]\n",
            " ...\n",
            " [ 6.29470940e-04  1.89305413e-03  1.04882142e-02 ...  2.34007252e-01\n",
            "   4.00328554e-05  3.51474517e-07]\n",
            " [ 8.58939846e-03 -1.39810280e-02 -3.39734512e-02 ... -4.82684337e-01\n",
            "  -6.31330588e-03 -1.70067777e-08]\n",
            " [ 1.17205992e-01  1.03255971e-01  1.10046893e-01 ...  9.95627986e-01\n",
            "   9.95627986e-01  8.22905998e-10]]\n"
          ],
          "name": "stdout"
        }
      ]
    },
    {
      "cell_type": "markdown",
      "metadata": {
        "id": "7GbPJ50u2-nv"
      },
      "source": [
        "### 2.3 - Cost function and gradient\n",
        "\n",
        "Implement the cost function and gradient for regularized logistic regression. \n",
        "\n",
        "**Tasks:**\n",
        "1. Implement the \"cal_reg_cost\" to compute the cost.\n",
        "2. Implement the \"cal_reg_grad\" to compute the gradients.\n",
        "3. Test the the two functions with initial values.\n",
        "\n",
        "**Validation**: \\\n",
        "  Cost at initial theta : 0.6931471805599442 \\\n",
        "  Gradient at inital theta : \\\n",
        "  [0.05    &nbsp;   0.03146256 &nbsp; 0.03589577 &nbsp;0.06512186 &nbsp;0.01044212\\\n",
        "  0.05812127 &nbsp; 0.02379224 &nbsp; 0.01121763 &nbsp; 0.01050091 &nbsp; 0.04185155\\\n",
        "  0.04795375 &nbsp; 0.00272593 &nbsp; 0.01551233 &nbsp; 0.00339255 &nbsp; 0.05331224\\\n",
        "  0.02385013 &nbsp; 0.00614284 &nbsp; 0.00382781 &nbsp; 0.00746595 &nbsp; 0.00566102\\\n",
        "  0.043769   &nbsp; 0.03690049 &nbsp; 0.00163929 &nbsp; 0.00723665 &nbsp; 0.00091111\\\n",
        "  0.00827412 &nbsp; 0.0017557  &nbsp; 0.05035145]"
      ]
    },
    {
      "cell_type": "code",
      "metadata": {
        "id": "MVEsZT2J2-nw",
        "colab": {
          "base_uri": "https://localhost:8080/",
          "height": 151
        },
        "outputId": "fcbcb3d7-3dab-4ed0-a057-3f1565c637a0"
      },
      "source": [
        "# Implement the cost function\n",
        "theta = np.array(np.zeros(28))\n",
        "lam = 1\n",
        "\n",
        "def cal_reg_cost(theta, X, y, lam):\n",
        "     m = len(y)\n",
        "     eps = 1e-15\n",
        "     # compute the hypothesis\n",
        "     htheta = sigmoid(np.dot(theta, X))\n",
        "        \n",
        "     # compute J in three terms\n",
        "     term1 = np.dot(np.log(htheta), y)\n",
        "     term2 = np.dot(np.log(1-htheta + eps), (1-y))\n",
        "     term3 = lam/(2*m) * np.dot(theta, theta)\n",
        "     J = - (term1 + term2 - term3) / m\n",
        "     return J\n",
        "\n",
        "############################################\n",
        "def cal_reg_grad(theta, X, y, lam):    \n",
        "     m = len(y)\n",
        "     # compute the hypothesis\n",
        "     htheta = sigmoid(np.dot(np.transpose(theta), X))  \n",
        "     # gradient\n",
        "     term1 = np.dot((htheta - y), np.transpose(X))\n",
        "     term2 = (lam / m) * theta\n",
        "     grad = (term1 + term2) / m             \n",
        "    # grad[0] -= (lam * theta[0]) /m \n",
        "     return grad\n",
        "         \n",
        "\n",
        "print (\"Cost at inital theta:\\n \", str(cal_reg_cost(theta, X, y, lam)))\n",
        "print (\"Gradient at inital theta:\\n\", str(cal_reg_grad(theta, X, y, lam)))"
      ],
      "execution_count": null,
      "outputs": [
        {
          "output_type": "stream",
          "text": [
            "Cost at inital theta:\n",
            "  0.6931471805599441\n",
            "Gradient at inital theta:\n",
            " [0.05       0.03146256 0.03589577 0.06512186 0.01044212 0.05812127\n",
            " 0.02379224 0.01121763 0.01050091 0.04185155 0.04795375 0.00272593\n",
            " 0.01551233 0.00339255 0.05331224 0.02385013 0.00614284 0.00382781\n",
            " 0.00746595 0.00566102 0.043769   0.03690049 0.00163929 0.00723665\n",
            " 0.00091111 0.00827412 0.0017557  0.05035145]\n"
          ],
          "name": "stdout"
        }
      ]
    },
    {
      "cell_type": "markdown",
      "metadata": {
        "id": "hjxsCQXM2-nz"
      },
      "source": [
        "## 2.4 Train parameters with Gradient Descent ##\n",
        "\n",
        "\n",
        "Train parameters with Gradient Descent.\n",
        "\n",
        "**Tasks:**\n",
        "1. Implement GD function to optimize parameters.\n",
        "2. Print out the best theta and its corresponding cost.\n"
      ]
    },
    {
      "cell_type": "code",
      "metadata": {
        "id": "TUHpBiZZ2-n0",
        "colab": {
          "base_uri": "https://localhost:8080/",
          "height": 571
        },
        "outputId": "bb2c87e6-a50c-4842-e165-fe9b5c34981f"
      },
      "source": [
        "# Learning and plot\n",
        "L = 0.001\n",
        "epochs = 800000  #the number of iterations to perform gradient descent\n",
        "lam = 1\n",
        "\n",
        "# Performing Gradient Descent \n",
        "for i in range(epochs):\n",
        "    theta = theta - L * cal_reg_grad(theta, X, y, lam)\n",
        "    if i < 3:\n",
        "      print(\"---Epoch#\", i)\n",
        "      print(\"Best fit theta: \", str(theta))\n",
        "      print(\"Cost function at best fit theta:\", str(cal_reg_cost(theta, X, y, lam)))\n",
        "\n",
        "cost = cal_reg_cost(theta, X, y, lam)\n",
        "print(\"Best fit theta: \", str(theta))\n",
        "print(\"Cost function at best fit theta: \", cost)\n"
      ],
      "execution_count": null,
      "outputs": [
        {
          "output_type": "stream",
          "text": [
            "---Epoch# 0\n",
            "Best fit theta:  [-5.00000000e-05 -3.14625580e-05 -3.58957700e-05 -6.51218577e-05\n",
            " -1.04421167e-05 -5.81212666e-05 -2.37922390e-05 -1.12176321e-05\n",
            " -1.05009072e-05 -4.18515520e-05 -4.79537494e-05 -2.72592921e-06\n",
            " -1.55123328e-05 -3.39254609e-06 -5.33122440e-05 -2.38501348e-05\n",
            " -6.14284478e-06 -3.82780648e-06 -7.46594607e-06 -5.66102417e-06\n",
            " -4.37690001e-05 -3.69004876e-05 -1.63928681e-06 -7.23665148e-06\n",
            " -9.11107182e-07 -8.27412363e-06 -1.75570322e-06 -5.03514495e-05]\n",
            "Cost function at best fit theta: 0.6931200734966677\n",
            "---Epoch# 1\n",
            "Best fit theta:  [-9.99660822e-05 -6.29183160e-05 -7.17765745e-05 -1.30233520e-04\n",
            " -2.08834576e-05 -1.16227186e-04 -4.75793869e-05 -2.24328005e-05\n",
            " -2.10003873e-05 -8.36915378e-05 -9.59013358e-05 -5.45123637e-06\n",
            " -3.10222667e-05 -6.78472665e-06 -1.06612952e-04 -4.76960805e-05\n",
            " -1.22846398e-05 -7.65487376e-06 -1.49305441e-05 -1.13214432e-05\n",
            " -8.75278141e-05 -7.37963331e-05 -3.27811875e-06 -1.44723651e-05\n",
            " -1.82197452e-06 -1.65469460e-05 -3.51118308e-06 -1.00692667e-04]\n",
            "Cost function at best fit theta: 0.6930929801956696\n",
            "---Epoch# 2\n",
            "Best fit theta:  [-1.49898260e-04 -9.43672755e-05 -1.07642419e-04 -1.95334991e-04\n",
            " -3.13240228e-05 -1.74317764e-04 -7.13614450e-05 -3.36455060e-05\n",
            " -3.14984408e-05 -1.25519961e-04 -1.43842761e-04 -8.17592162e-06\n",
            " -4.65298027e-05 -1.01765417e-05 -1.59902128e-04 -7.15378383e-05\n",
            " -1.84253855e-05 -1.14812021e-05 -2.23937946e-05 -1.69812571e-05\n",
            " -1.31276445e-04 -1.10687538e-04 -4.91649594e-06 -2.17071413e-05\n",
            " -2.73260207e-06 -2.48184677e-05 -5.26643960e-06 -1.51023654e-04]\n",
            "Cost function at best fit theta: 0.6930659006475139\n",
            "Best fit theta:  [ 3.10622447  1.58121453  2.8909624  -5.42414548 -2.83511834 -4.07217509\n",
            "  1.27824324 -0.997945   -1.00902893 -0.4526788  -3.83027697  0.19089428\n",
            " -1.71890434 -1.0085783  -3.42313991 -0.1289818  -0.64896715  0.47127604\n",
            " -0.96876452 -1.24287481 -0.86304381 -2.74919026  0.21444826 -0.711758\n",
            "  0.13551145 -0.92711594 -0.69029846 -2.53518004]\n",
            "Cost function at best fit theta:  0.33953175483068315\n"
          ],
          "name": "stdout"
        }
      ]
    }
  ]
}